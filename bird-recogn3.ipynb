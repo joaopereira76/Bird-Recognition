{
 "cells": [
  {
   "cell_type": "code",
   "execution_count": 1,
   "id": "be59eb13",
   "metadata": {
    "collapsed": false,
    "jupyter": {
     "outputs_hidden": false,
     "source_hidden": false
    }
   },
   "outputs": [],
   "source": [
    "import os\n",
    "import numpy as np\n",
    "import h5py\n",
    "from PIL import Image\n",
    "import matplotlib.pyplot as plt\n",
    "import itertools\n",
    "from tqdm import tqdm\n",
    "import seaborn as sns\n",
    "\n",
    "# Scikit-learn imports\n",
    "from sklearn.model_selection import train_test_split, StratifiedKFold\n",
    "from sklearn.metrics import f1_score, confusion_matrix, accuracy_score\n",
    "\n",
    "# PyTorch imports\n",
    "import torch\n",
    "import torch.nn as nn\n",
    "import torch.optim as optim\n",
    "from torch.utils.data import DataLoader, TensorDataset\n",
    "from torchvision import models, transforms"
   ]
  },
  {
   "cell_type": "markdown",
   "id": "36ce1236",
   "metadata": {
    "jupyter": {
     "source_hidden": false
    }
   },
   "source": [
    "First, the list of chosen bird species is defined:"
   ]
  },
  {
   "cell_type": "code",
   "execution_count": 2,
   "id": "195815a6",
   "metadata": {
    "jupyter": {
     "source_hidden": false
    }
   },
   "outputs": [],
   "source": [
    "species = [\n",
    "    'Ciconia_ciconia', 'Columba_livia', 'Streptopelia_decaocto',\n",
    "    'Emberiza_calandra', 'Carduelis_carduelis', 'Serinus_serinus',\n",
    "    'Delichon_urbicum', 'Hirundo_rustica', 'Passer_domesticus',\n",
    "    'Sturnus_unicolor', 'Turdus_merula'\n",
    "]"
   ]
  },
  {
   "cell_type": "markdown",
   "id": "cc7bb111",
   "metadata": {
    "jupyter": {
     "source_hidden": false
    }
   },
   "source": [
    "And some settings are defined for pre-processing the images."
   ]
  },
  {
   "cell_type": "code",
   "execution_count": 3,
   "id": "3a8d2f68",
   "metadata": {
    "jupyter": {
     "source_hidden": false
    }
   },
   "outputs": [],
   "source": [
    "DATA_DIR = 'dataset'                        # Replace with your dataset path\n",
    "MODEL_SAVE_DIR = 'saved_models'\n",
    "OUTPUT_FILE = 'bird_dataset_pytorch.h5'     # Output HDF5 file\n",
    "\n",
    "IMG_SIZE = (224, 224)                       # Standard size for CNNs\n",
    "TEST_SIZE = 0.1                             # Test set proportion\n",
    "COMPRESSION = 'gzip'                        # Compression type\n",
    "COMPRESSION_LEVEL = 7                       # Compression level (1-9)\n",
    "\n",
    "N_SPLITS = 5                                # Number of splits for cross-validation\n",
    "BATCH_SIZE = 32                             # Batch size for DataLoader\n",
    "NUM_EPOCHS = 30\n",
    "NUM_CLASSES = 11\n",
    "DEVICE = torch.device('cuda' if torch.cuda.is_available() else 'cpu')"
   ]
  },
  {
   "cell_type": "markdown",
   "id": "589f0197",
   "metadata": {
    "jupyter": {
     "source_hidden": false
    }
   },
   "source": [
    "The images of the various birds must be transformed so that they can be used in the models, using PyTorch's transforms.Compose(). The transformations include data augmentation for the training set and basic preprocessing for the test set. But what is data augmentation?"
   ]
  },
  {
   "cell_type": "markdown",
   "id": "eaecc56e",
   "metadata": {
    "jupyter": {
     "source_hidden": false
    }
   },
   "source": [
    "Data Augmentation is a technique used to expand a training dataset by creating modified versions of existing images through random but realistic transformations. It helps improve model generalization by exposing it to varied examples without collecting new data. Common transformations include flipping, rotating, scaling, changing brightness/contrast, adding noise, or cropping. These variations simulate different real-world scenarios, making the model more robust to changes in viewpoint, lighting, or orientation.\n",
    "\n",
    "Data augmentation is applied only during training—validation and test data remain unmodified to reflect real-world performance. It is especially useful for small datasets, reducing overfitting and improving accuracy. "
   ]
  },
  {
   "cell_type": "markdown",
   "id": "e44959df",
   "metadata": {
    "jupyter": {
     "source_hidden": false
    }
   },
   "source": [
    "Let's now break down each component and explain the hyperparameters:"
   ]
  },
  {
   "cell_type": "markdown",
   "id": "6d631bbb",
   "metadata": {
    "jupyter": {
     "source_hidden": false
    }
   },
   "source": [
    "- transforms.Resize(IMG_SIZE)- Resizes the image to a fixed size. This size is typically chosen based on model architecture, in this case 224x224.\n",
    "\n",
    "- transforms.RandomHorizontalFlip()- Randomly flips the image horizontally with a default probability of 0.5.\n",
    "\n",
    "- transforms.RandomRotation(20)- Rotates the image randomly by up to ±20 degrees.\n",
    "\n",
    "- transforms.ColorJitter(brightness=0.1, contrast=0.1, saturation=0.1)- Randomly adjusts brightness, contrast, and saturation by up to ±10%.\n",
    "\n",
    "- transforms.ToTensor()- Converts the image to a PyTorch tensor (values scaled to [0, 1]).\n",
    "\n",
    "- transforms.Normalize(mean=[0.485, 0.456, 0.406], std=[0.229, 0.224, 0.225])- Normalizes the image using precomputed mean and std from ImageNet.\n",
    "\n",
    "\n"
   ]
  },
  {
   "cell_type": "code",
   "execution_count": 4,
   "id": "85fc6886",
   "metadata": {
    "jupyter": {
     "source_hidden": false
    }
   },
   "outputs": [],
   "source": [
    "train_transforms = transforms.Compose([\n",
    "    transforms.Resize(IMG_SIZE),\n",
    "    transforms.RandomHorizontalFlip(),\n",
    "    transforms.RandomRotation(20),\n",
    "    transforms.ColorJitter(brightness=0.1, contrast=0.1, saturation=0.1),\n",
    "    transforms.ToTensor(),\n",
    "    transforms.Normalize(mean=[0.485, 0.456, 0.406], std=[0.229, 0.224, 0.225])\n",
    "])\n",
    "\n",
    "test_transforms = transforms.Compose([\n",
    "    transforms.Resize(IMG_SIZE),\n",
    "    transforms.ToTensor(),\n",
    "    transforms.Normalize(mean=[0.485, 0.456, 0.406], std=[0.229, 0.224, 0.225])\n",
    "])"
   ]
  },
  {
   "cell_type": "markdown",
   "id": "2e4ae4eb",
   "metadata": {
    "jupyter": {
     "source_hidden": false
    }
   },
   "source": []
  },
  {
   "cell_type": "code",
   "execution_count": 5,
   "id": "111fb351",
   "metadata": {
    "collapsed": false,
    "jupyter": {
     "outputs_hidden": false,
     "source_hidden": false
    }
   },
   "outputs": [],
   "source": [
    "def createDataset():\n",
    "    images = []\n",
    "    labels = []\n",
    "        \n",
    "    for idx, specie in enumerate(species):\n",
    "        specie_dir = os.path.join(DATA_DIR, specie)\n",
    "            \n",
    "        for img_name in os.listdir(specie_dir):\n",
    "            img_path = os.path.join(specie_dir, img_name)\n",
    "                \n",
    "            try:\n",
    "                img = Image.open(img_path)\n",
    "                if img.mode != 'RGB':\n",
    "                    img = img.convert('RGB')\n",
    "                img = img.resize(IMG_SIZE)\n",
    "                images.append(np.array(img))\n",
    "                labels.append(idx)\n",
    "            except Exception as e:\n",
    "                print(f\"Error processing {img_path}: {e}\")\n",
    "\n",
    "    # Load and preprocess images\n",
    "    print(\"Loading and preprocessing images...\")\n",
    "    X = np.array(images)\n",
    "    y = np.array(labels)\n",
    "\n",
    "    # Split into train and test sets\n",
    "    X_train, X_test, y_train, y_test = train_test_split(\n",
    "        X, y, test_size=TEST_SIZE, stratify=y\n",
    "    )\n",
    "\n",
    "    #Cross Validation with Stratified K-Folds\n",
    "    cv = StratifiedKFold(n_splits=N_SPLITS, shuffle=True, random_state=42)\n",
    "\n",
    "    #Saving in HDF5 format\n",
    "    print(f\"Saving data to {OUTPUT_FILE}...\")\n",
    "    os.makedirs(MODEL_SAVE_DIR, exist_ok=True)\n",
    "    with h5py.File(f\"{MODEL_SAVE_DIR}/{OUTPUT_FILE}\", 'w') as hf:\n",
    "        #Test set\n",
    "        test_group = hf.create_group('test')\n",
    "        test_group.create_dataset('X_test', data=X_test, compression=COMPRESSION, compression_opts=COMPRESSION_LEVEL)\n",
    "        test_group.create_dataset('y_test', data=y_test, compression=COMPRESSION, compression_opts=COMPRESSION_LEVEL)\n",
    "\n",
    "        # Cross-validation splits\n",
    "        cv_group = hf.create_group('cross_validation')\n",
    "        for fold, (train_idx, val_idx) in enumerate(cv.split(X_train, y_train)):\n",
    "            fold_group = cv_group.create_group(f'fold_{fold + 1}')\n",
    "            fold_group.create_dataset('X_train', data=X_train[train_idx], compression=COMPRESSION, compression_opts=COMPRESSION_LEVEL)\n",
    "            fold_group.create_dataset('y_train', data=y_train[train_idx], compression=COMPRESSION, compression_opts=COMPRESSION_LEVEL)\n",
    "            fold_group.create_dataset('X_val', data=X_train[val_idx], compression=COMPRESSION, compression_opts=COMPRESSION_LEVEL)\n",
    "            fold_group.create_dataset('y_val', data=y_train[val_idx], compression=COMPRESSION, compression_opts=COMPRESSION_LEVEL)\n",
    "\n",
    "        # Save metadata\n",
    "        hf.attrs['species'] = np.array(species, dtype=h5py.string_dtype())\n",
    "        hf.attrs['image_size'] = IMG_SIZE\n",
    "        hf.attrs['n_splits'] = N_SPLITS\n",
    "        hf.attrs['compression'] = COMPRESSION\n",
    "        hf.attrs['compression_level'] = COMPRESSION_LEVEL\n",
    "    print(\"Process completed successfully!\")\n",
    "    print(f\"Data saved to {OUTPUT_FILE} with {COMPRESSION} compression level {COMPRESSION_LEVEL}\")\n"
   ]
  },
  {
   "cell_type": "code",
   "execution_count": 6,
   "id": "20219c35",
   "metadata": {},
   "outputs": [],
   "source": [
    "def getDataloaders(filepath, idx, batch_size=BATCH_SIZE):\n",
    "    with h5py.File(filepath, 'r') as hf:\n",
    "        X_test = hf['test/X_test'][:]\n",
    "        y_test = hf['test/y_test'][:]\n",
    "\n",
    "        fold_group = hf[f'cross_validation/fold_{idx}']\n",
    "        X_train = fold_group['X_train'][:]\n",
    "        y_train = fold_group['y_train'][:]\n",
    "        X_val = fold_group['X_val'][:]\n",
    "        y_val = fold_group['y_val'][:]\n",
    "\n",
    "        species = hf.attrs['species']\n",
    "    \n",
    "    # Apply transformations\n",
    "    X_train = np.array([train_transforms(Image.fromarray(img)) for img in X_train])\n",
    "    X_val = np.array([test_transforms(Image.fromarray(img)) for img in X_val])\n",
    "    X_test = np.array([test_transforms(Image.fromarray(img)) for img in X_test])\n",
    "\n",
    "\n",
    "    #Permute necessary for PyTorch (C, H, W) \n",
    "    X_train_tensor = torch.from_numpy(X_train).float()\n",
    "    y_train_tensor = torch.from_numpy(y_train).long()\n",
    "    X_val_tensor = torch.from_numpy(X_val).float()\n",
    "    y_val_tensor = torch.from_numpy(y_val).long()\n",
    "    X_test_tensor = torch.from_numpy(X_test).float()\n",
    "    y_test_tensor = torch.from_numpy(y_test).long()\n",
    "\n",
    "    train_dataset = TensorDataset(X_train_tensor, y_train_tensor)\n",
    "    val_dataset = TensorDataset(X_val_tensor, y_val_tensor)\n",
    "    test_dataset = TensorDataset(X_test_tensor, y_test_tensor)\n",
    "\n",
    "    train_loader = DataLoader(train_dataset, batch_size=batch_size, shuffle=True)\n",
    "    val_loader = DataLoader(val_dataset, batch_size=batch_size, shuffle=False)\n",
    "    test_loader = DataLoader(test_dataset, batch_size=batch_size, shuffle=False)\n",
    "    \n",
    "    return train_loader, val_loader, test_loader, species"
   ]
  },
  {
   "cell_type": "code",
   "execution_count": 7,
   "id": "eae37ea3",
   "metadata": {
    "collapsed": false,
    "jupyter": {
     "outputs_hidden": false,
     "source_hidden": false
    }
   },
   "outputs": [],
   "source": [
    "def getModel(name, nClasses, dropout_rate=0):\n",
    "    if name == 'resnet18':\n",
    "        model = models.resnet18(weights=models.ResNet18_Weights.DEFAULT)\n",
    "        model.fc = nn.Sequential(\n",
    "            nn.Dropout(dropout_rate),\n",
    "            nn.Linear(model.fc.in_features, nClasses)\n",
    "        )\n",
    "    elif name == 'efficientnet_b0':\n",
    "        model = models.efficientnet_b0(weights=models.EfficientNet_B0_Weights.DEFAULT)\n",
    "        model.classifier[1] = nn.Sequential(\n",
    "            nn.Dropout(dropout_rate),\n",
    "            nn.Linear(model.classifier[1].in_features, nClasses)\n",
    "        )\n",
    "    elif name == 'resnet34':\n",
    "        model = models.resnet34(weights=models.ResNet34_Weights.DEFAULT)\n",
    "        model.fc = nn.Sequential(\n",
    "            nn.Dropout(dropout_rate),\n",
    "            nn.Linear(model.fc.in_features, nClasses)\n",
    "        )\n",
    "    return model.to(DEVICE)\n",
    "\n",
    "def getOptimizer(model, params):\n",
    "    if params['optimizer'] == 'adam':\n",
    "        optimizer = optim.Adam(model.parameters(), lr=params['learning_rate'], weight_decay=params['weight_decay'])\n",
    "    elif params['optimizer'] == 'sgd':\n",
    "        optimizer = optim.SGD(model.parameters(), lr=params['learning_rate'], momentum=0.9, weight_decay=params['weight_decay'])\n",
    "    return optimizer\n",
    "\n",
    "def trainModel(model, train_loader, val_loader, params):\n",
    "    criterion = nn.CrossEntropyLoss()\n",
    "    optimizer = getOptimizer(model, params)\n",
    "    scheduler = optim.lr_scheduler.ReduceLROnPlateau(optimizer, patience=3) if params['scheduler'] else None\n",
    "    \n",
    "    best_f1 = 0\n",
    "    THRESHOLD = 5\n",
    "    improvementCounter = 0\n",
    "    history = {'train_loss': [], 'val_loss': [], 'train_acc': [], 'val_acc': [], 'val_f1': []}\n",
    "    \n",
    "    for epoch in range(NUM_EPOCHS):\n",
    "\n",
    "        # Training phase\n",
    "        model.train()\n",
    "        running_loss = 0.0\n",
    "        running_corrects = 0\n",
    "        \n",
    "        for inputs, labels in train_loader:\n",
    "            inputs, labels = inputs.to(DEVICE), labels.to(DEVICE)\n",
    "            \n",
    "            optimizer.zero_grad()\n",
    "            outputs = model(inputs)\n",
    "            loss = criterion(outputs, labels)\n",
    "            loss.backward()\n",
    "            optimizer.step()\n",
    "            \n",
    "            _, preds = torch.max(outputs, 1)\n",
    "            running_loss += loss.item() * inputs.size(0)\n",
    "            running_corrects += torch.sum(preds == labels.data)\n",
    "        \n",
    "        epoch_loss = running_loss / len(train_loader.dataset)\n",
    "        epoch_acc = running_corrects.double() / len(train_loader.dataset)\n",
    "        history['train_loss'].append(epoch_loss)\n",
    "        history['train_acc'].append(epoch_acc)\n",
    "        \n",
    "        # Validation phase\n",
    "        model.eval()\n",
    "        val_running_loss = 0.0\n",
    "        val_running_corrects = 0\n",
    "        all_preds, all_labels = [], []\n",
    "        \n",
    "        with torch.no_grad():\n",
    "            for inputs, labels in val_loader:\n",
    "                inputs, labels = inputs.to(DEVICE), labels.to(DEVICE)\n",
    "                \n",
    "                outputs = model(inputs)\n",
    "                loss = criterion(outputs, labels)\n",
    "                _, preds = torch.max(outputs, 1)\n",
    "                \n",
    "                val_running_loss += loss.item() * inputs.size(0)\n",
    "                val_running_corrects += torch.sum(preds == labels.data)\n",
    "                all_preds.extend(preds.cpu().numpy())\n",
    "                all_labels.extend(labels.cpu().numpy())\n",
    "        \n",
    "        val_loss = val_running_loss / len(val_loader.dataset)\n",
    "        val_acc = val_running_corrects.double() / len(val_loader.dataset)\n",
    "        val_f1 = f1_score(all_labels, all_preds, average='weighted')\n",
    "        \n",
    "        history['val_loss'].append(val_loss)\n",
    "        history['val_acc'].append(val_acc)\n",
    "        history['val_f1'].append(val_f1)\n",
    "        \n",
    "        if scheduler:\n",
    "            scheduler.step(val_loss)\n",
    "        \n",
    "        if val_f1 > best_f1:\n",
    "            best_f1 = val_f1\n",
    "            improvementCounter = 0\n",
    "            torch.save(model.state_dict(), os.path.join(MODEL_SAVE_DIR, f'best_{params[\"model_name\"]}_fold.pth'))\n",
    "        else:\n",
    "            improvementCounter +=1\n",
    "            if improvementCounter >= THRESHOLD:\n",
    "                break\n",
    "\n",
    "    return history, best_f1"
   ]
  },
  {
   "cell_type": "code",
   "execution_count": 8,
   "id": "74aca8ac",
   "metadata": {},
   "outputs": [],
   "source": [
    "def gridSearch(filepath, n_splits, hyperparams):\n",
    "    best_params = None\n",
    "    best_f1 = 0\n",
    "    \n",
    "    # Generate all possible hyperparameter combinations\n",
    "    keys, values = zip(*hyperparams.items())\n",
    "    param_combinations = [dict(zip(keys, v)) for v in itertools.product(*values)]\n",
    "    \n",
    "    print(f\"\\nBeginning GridSearch with {len(param_combinations)} combinations...\")\n",
    "    \n",
    "    for params in tqdm(param_combinations):\n",
    "        print()\n",
    "        print(\"=\"*50)\n",
    "        print(f\"Testing combination: {params}\")\n",
    "        fold_f1_scores = []\n",
    "        \n",
    "        # Cross-validation loop\n",
    "        for fold_idx in range(1, n_splits+1):\n",
    "            train_loader, val_loader, _, _ = getDataloaders(filepath, fold_idx, params['batch_size'])\n",
    "            model = getModel(params['model_name'], NUM_CLASSES)\n",
    "            model.to(DEVICE)\n",
    "            _, fold_f1 = trainModel(model, train_loader, val_loader, params)\n",
    "            print(f\"{species[fold_idx]} Best F1 Score: {fold_f1:.4f}\")\n",
    "            fold_f1_scores.append(fold_f1)\n",
    "            \n",
    "            # Clear memory\n",
    "            del model\n",
    "            torch.cuda.empty_cache()\n",
    "        \n",
    "        # Calculate average F1 across folds\n",
    "        avg_f1 = np.mean(fold_f1_scores)\n",
    "        print(f\"Average F1 across folds: {avg_f1:.4f}\")\n",
    "        \n",
    "        # Update best parameters if improved\n",
    "        if avg_f1 > best_f1:\n",
    "            best_f1 = avg_f1\n",
    "            best_params = params\n",
    "            print(f\"New best parameters found with F1: {best_f1:.4f}\")\n",
    "    \n",
    "\n",
    "    print(\"\\nGridSearch completed!\")\n",
    "    torch.save(best_params, os.path.join(MODEL_SAVE_DIR, 'bestparams.pth'))\n",
    "\n",
    "\n",
    "def bestTrainModel(filepath, best_params):\n",
    "    train_loader, val_loader, test_loader, _ = getDataloaders(filepath, 1, best_params['batch_size'])\n",
    "    trainset = torch.utils.data.ConcatDataset([train_loader.dataset, val_loader.dataset])\n",
    "    trainloaderset = DataLoader(trainset, batch_size=best_params['batch_size'], shuffle=True)\n",
    "    model = getModel(best_params['model_name'], NUM_CLASSES, best_params['dropout_rate'])\n",
    "    model.to(DEVICE)\n",
    "    bestHist,_ = trainModel(model, trainloaderset, test_loader, best_params)\n",
    "\n",
    "    #Evaluate on test set\n",
    "    model.eval()\n",
    "    all_preds, all_labels = [], []\n",
    "    test_loss = 0.0\n",
    "\n",
    "    criterion = nn.CrossEntropyLoss()\n",
    "    with torch.no_grad():\n",
    "        for inputs, labels in test_loader:\n",
    "            inputs, labels = inputs.to(DEVICE), labels.to(DEVICE)\n",
    "            \n",
    "            outputs = model(inputs)\n",
    "            loss = criterion(outputs, labels)\n",
    "            _, preds = torch.max(outputs, 1)\n",
    "            \n",
    "            test_loss += loss.item() * inputs.size(0)\n",
    "            all_preds.extend(preds.cpu().numpy())\n",
    "            all_labels.extend(labels.cpu().numpy())\n",
    "    \n",
    "    test_loss /= len(test_loader.dataset)\n",
    "    test_acc = accuracy_score(all_labels, all_preds)\n",
    "    test_f1 = f1_score(all_labels, all_preds, average='weighted')\n",
    "    print(\"\\nFinal Model Evaluation:\")\n",
    "    print(f\"Test Loss: {test_loss:.4f}\")\n",
    "    print(f\"Test Accuracy: {test_acc:.4f}\")\n",
    "    print(f\"Test F1 Score: {test_f1:.4f}\")\n",
    "\n",
    "    return model, bestHist, (all_labels, all_preds), test_loss, test_acc, test_f1"
   ]
  },
  {
   "cell_type": "code",
   "execution_count": null,
   "id": "57fbcdd7",
   "metadata": {},
   "outputs": [],
   "source": [
    "def plotting(history, cm, test_metrics, species):\n",
    "    \"\"\"Visualize training results and metrics\"\"\"\n",
    "    plt.figure(figsize=(20, 12))\n",
    "    \n",
    "    # Ensure tensors are moved to CPU before converting to numpy\n",
    "    true_labels = [label.cpu().numpy() if isinstance(label, torch.Tensor) else label for label in true_labels]\n",
    "    pred_labels = [label.cpu().numpy() if isinstance(label, torch.Tensor) else label for label in pred_labels]\n",
    "    \n",
    "    # Plot training history\n",
    "    plt.subplot(2, 2, 1)\n",
    "    plt.plot(history['train_loss'], label='Train Loss')\n",
    "    plt.plot(history['val_loss'], label='Validation Loss')\n",
    "    plt.title('Training and Validation Loss')\n",
    "    plt.xlabel('Epoch')\n",
    "    plt.ylabel('Loss')\n",
    "    plt.legend()\n",
    "    \n",
    "    plt.subplot(2, 2, 2)\n",
    "    plt.plot(history['train_acc'], label='Train Accuracy')\n",
    "    plt.plot(history['val_acc'], label='Validation Accuracy')\n",
    "    plt.title('Training and Validation Accuracy')\n",
    "    plt.xlabel('Epoch')\n",
    "    plt.ylabel('Accuracy')\n",
    "    plt.legend()\n",
    "    \n",
    "    plt.subplot(2, 2, 3)\n",
    "    plt.plot(history['val_f1'], label='Validation F1')\n",
    "    plt.title('Validation F1 Score')\n",
    "    plt.xlabel('Epoch')\n",
    "    plt.ylabel('F1 Score')\n",
    "    plt.legend()\n",
    "    \n",
    "    # Plot confusion matrix\n",
    "    plt.subplot(2, 2, 4)\n",
    "    sns.heatmap(cm, annot=True, fmt='d', cmap='Blues', \n",
    "                xticklabels=species, yticklabels=species)\n",
    "    plt.title('Confusion Matrix')\n",
    "    plt.xlabel('Predicted')\n",
    "    plt.ylabel('True')\n",
    "    plt.xticks(rotation=45)\n",
    "    plt.yticks(rotation=0)\n",
    "    \n",
    "    plt.tight_layout()\n",
    "    plt.show()\n",
    "    \n",
    "    # Print test metrics\n",
    "    print(\"\\nTest Set Metrics:\")\n",
    "    print(f\"Loss: {test_metrics[0]:.4f}\")\n",
    "    print(f\"Accuracy: {test_metrics[1]:.4f}\")\n",
    "    print(f\"F1 Score: {test_metrics[2]:.4f}\")"
   ]
  },
  {
   "cell_type": "code",
   "execution_count": 10,
   "id": "fb16232b",
   "metadata": {},
   "outputs": [],
   "source": [
    "#createDataset()"
   ]
  },
  {
   "cell_type": "code",
   "execution_count": 11,
   "id": "9b61ebf5",
   "metadata": {},
   "outputs": [
    {
     "name": "stdout",
     "output_type": "stream",
     "text": [
      "\n",
      "Beginning GridSearch with 16 combinations...\n"
     ]
    },
    {
     "name": "stderr",
     "output_type": "stream",
     "text": [
      "  0%|          | 0/16 [00:00<?, ?it/s]"
     ]
    },
    {
     "name": "stdout",
     "output_type": "stream",
     "text": [
      "\n",
      "==================================================\n",
      "Testing combination: {'model_name': 'resnet34', 'learning_rate': 0.001, 'batch_size': 32, 'weight_decay': 0, 'optimizer': 'adam', 'scheduler': True, 'dropout_rate': 0}\n",
      "Columba_livia Best F1 Score: 0.6399\n",
      "Streptopelia_decaocto Best F1 Score: 0.6602\n",
      "Emberiza_calandra Best F1 Score: 0.6536\n",
      "Carduelis_carduelis Best F1 Score: 0.6396\n"
     ]
    },
    {
     "name": "stderr",
     "output_type": "stream",
     "text": [
      "  6%|▋         | 1/16 [1:03:52<15:58:11, 3832.75s/it]"
     ]
    },
    {
     "name": "stdout",
     "output_type": "stream",
     "text": [
      "Serinus_serinus Best F1 Score: 0.6359\n",
      "Average F1 across folds: 0.6458\n",
      "New best parameters found with F1: 0.6458\n",
      "\n",
      "==================================================\n",
      "Testing combination: {'model_name': 'resnet34', 'learning_rate': 0.001, 'batch_size': 32, 'weight_decay': 0, 'optimizer': 'adam', 'scheduler': True, 'dropout_rate': 0.5}\n",
      "Columba_livia Best F1 Score: 0.6332\n",
      "Streptopelia_decaocto Best F1 Score: 0.6573\n",
      "Emberiza_calandra Best F1 Score: 0.6158\n",
      "Carduelis_carduelis Best F1 Score: 0.6692\n"
     ]
    },
    {
     "name": "stderr",
     "output_type": "stream",
     "text": [
      " 12%|█▎        | 2/16 [2:04:30<14:27:36, 3718.31s/it]"
     ]
    },
    {
     "name": "stdout",
     "output_type": "stream",
     "text": [
      "Serinus_serinus Best F1 Score: 0.6298\n",
      "Average F1 across folds: 0.6411\n",
      "\n",
      "==================================================\n",
      "Testing combination: {'model_name': 'resnet34', 'learning_rate': 0.001, 'batch_size': 32, 'weight_decay': 0.001, 'optimizer': 'adam', 'scheduler': True, 'dropout_rate': 0}\n",
      "Columba_livia Best F1 Score: 0.6072\n",
      "Streptopelia_decaocto Best F1 Score: 0.6110\n",
      "Emberiza_calandra Best F1 Score: 0.5906\n",
      "Carduelis_carduelis Best F1 Score: 0.5966\n"
     ]
    },
    {
     "name": "stderr",
     "output_type": "stream",
     "text": [
      " 19%|█▉        | 3/16 [3:03:13<13:06:16, 3628.97s/it]"
     ]
    },
    {
     "name": "stdout",
     "output_type": "stream",
     "text": [
      "Serinus_serinus Best F1 Score: 0.6593\n",
      "Average F1 across folds: 0.6129\n",
      "\n",
      "==================================================\n",
      "Testing combination: {'model_name': 'resnet34', 'learning_rate': 0.001, 'batch_size': 32, 'weight_decay': 0.001, 'optimizer': 'adam', 'scheduler': True, 'dropout_rate': 0.5}\n",
      "Columba_livia Best F1 Score: 0.6146\n",
      "Streptopelia_decaocto Best F1 Score: 0.6127\n",
      "Emberiza_calandra Best F1 Score: 0.6024\n",
      "Carduelis_carduelis Best F1 Score: 0.5881\n"
     ]
    },
    {
     "name": "stderr",
     "output_type": "stream",
     "text": [
      " 25%|██▌       | 4/16 [4:03:59<12:07:06, 3635.51s/it]"
     ]
    },
    {
     "name": "stdout",
     "output_type": "stream",
     "text": [
      "Serinus_serinus Best F1 Score: 0.5954\n",
      "Average F1 across folds: 0.6026\n",
      "\n",
      "==================================================\n",
      "Testing combination: {'model_name': 'resnet34', 'learning_rate': 0.0005, 'batch_size': 32, 'weight_decay': 0, 'optimizer': 'adam', 'scheduler': True, 'dropout_rate': 0}\n",
      "Columba_livia Best F1 Score: 0.7259\n",
      "Streptopelia_decaocto Best F1 Score: 0.7112\n",
      "Emberiza_calandra Best F1 Score: 0.7133\n",
      "Carduelis_carduelis Best F1 Score: 0.7203\n"
     ]
    },
    {
     "name": "stderr",
     "output_type": "stream",
     "text": [
      " 31%|███▏      | 5/16 [5:03:47<11:03:22, 3618.37s/it]"
     ]
    },
    {
     "name": "stdout",
     "output_type": "stream",
     "text": [
      "Serinus_serinus Best F1 Score: 0.7181\n",
      "Average F1 across folds: 0.7178\n",
      "New best parameters found with F1: 0.7178\n",
      "\n",
      "==================================================\n",
      "Testing combination: {'model_name': 'resnet34', 'learning_rate': 0.0005, 'batch_size': 32, 'weight_decay': 0, 'optimizer': 'adam', 'scheduler': True, 'dropout_rate': 0.5}\n",
      "Columba_livia Best F1 Score: 0.7300\n",
      "Streptopelia_decaocto Best F1 Score: 0.7346\n",
      "Emberiza_calandra Best F1 Score: 0.7193\n",
      "Carduelis_carduelis Best F1 Score: 0.7069\n"
     ]
    },
    {
     "name": "stderr",
     "output_type": "stream",
     "text": [
      " 38%|███▊      | 6/16 [6:00:58<9:52:27, 3554.80s/it] "
     ]
    },
    {
     "name": "stdout",
     "output_type": "stream",
     "text": [
      "Serinus_serinus Best F1 Score: 0.7129\n",
      "Average F1 across folds: 0.7207\n",
      "New best parameters found with F1: 0.7207\n",
      "\n",
      "==================================================\n",
      "Testing combination: {'model_name': 'resnet34', 'learning_rate': 0.0005, 'batch_size': 32, 'weight_decay': 0.001, 'optimizer': 'adam', 'scheduler': True, 'dropout_rate': 0}\n",
      "Columba_livia Best F1 Score: 0.7148\n",
      "Streptopelia_decaocto Best F1 Score: 0.7164\n",
      "Emberiza_calandra Best F1 Score: 0.7310\n",
      "Carduelis_carduelis Best F1 Score: 0.7214\n"
     ]
    },
    {
     "name": "stderr",
     "output_type": "stream",
     "text": [
      " 44%|████▍     | 7/16 [7:00:32<8:54:09, 3561.10s/it]"
     ]
    },
    {
     "name": "stdout",
     "output_type": "stream",
     "text": [
      "Serinus_serinus Best F1 Score: 0.7204\n",
      "Average F1 across folds: 0.7208\n",
      "New best parameters found with F1: 0.7208\n",
      "\n",
      "==================================================\n",
      "Testing combination: {'model_name': 'resnet34', 'learning_rate': 0.0005, 'batch_size': 32, 'weight_decay': 0.001, 'optimizer': 'adam', 'scheduler': True, 'dropout_rate': 0.5}\n",
      "Columba_livia Best F1 Score: 0.7408\n",
      "Streptopelia_decaocto Best F1 Score: 0.7190\n",
      "Emberiza_calandra Best F1 Score: 0.6971\n",
      "Carduelis_carduelis Best F1 Score: 0.7144\n"
     ]
    },
    {
     "name": "stderr",
     "output_type": "stream",
     "text": [
      " 50%|█████     | 8/16 [8:18:46<8:42:54, 3921.83s/it]"
     ]
    },
    {
     "name": "stdout",
     "output_type": "stream",
     "text": [
      "Serinus_serinus Best F1 Score: 0.7150\n",
      "Average F1 across folds: 0.7173\n",
      "\n",
      "==================================================\n",
      "Testing combination: {'model_name': 'efficientnet_b0', 'learning_rate': 0.001, 'batch_size': 32, 'weight_decay': 0, 'optimizer': 'adam', 'scheduler': True, 'dropout_rate': 0}\n",
      "Columba_livia Best F1 Score: 0.7877\n",
      "Streptopelia_decaocto Best F1 Score: 0.7927\n",
      "Emberiza_calandra Best F1 Score: 0.7920\n",
      "Carduelis_carduelis Best F1 Score: 0.7838\n"
     ]
    },
    {
     "name": "stderr",
     "output_type": "stream",
     "text": [
      " 56%|█████▋    | 9/16 [9:31:20<7:53:16, 4056.68s/it]"
     ]
    },
    {
     "name": "stdout",
     "output_type": "stream",
     "text": [
      "Serinus_serinus Best F1 Score: 0.7915\n",
      "Average F1 across folds: 0.7895\n",
      "New best parameters found with F1: 0.7895\n",
      "\n",
      "==================================================\n",
      "Testing combination: {'model_name': 'efficientnet_b0', 'learning_rate': 0.001, 'batch_size': 32, 'weight_decay': 0, 'optimizer': 'adam', 'scheduler': True, 'dropout_rate': 0.5}\n",
      "Columba_livia Best F1 Score: 0.7892\n",
      "Streptopelia_decaocto Best F1 Score: 0.8043\n",
      "Emberiza_calandra Best F1 Score: 0.7604\n",
      "Carduelis_carduelis Best F1 Score: 0.7791\n"
     ]
    },
    {
     "name": "stderr",
     "output_type": "stream",
     "text": [
      " 62%|██████▎   | 10/16 [10:36:54<6:41:53, 4018.84s/it]"
     ]
    },
    {
     "name": "stdout",
     "output_type": "stream",
     "text": [
      "Serinus_serinus Best F1 Score: 0.7943\n",
      "Average F1 across folds: 0.7854\n",
      "\n",
      "==================================================\n",
      "Testing combination: {'model_name': 'efficientnet_b0', 'learning_rate': 0.001, 'batch_size': 32, 'weight_decay': 0.001, 'optimizer': 'adam', 'scheduler': True, 'dropout_rate': 0}\n",
      "Columba_livia Best F1 Score: 0.7698\n",
      "Streptopelia_decaocto Best F1 Score: 0.7862\n",
      "Emberiza_calandra Best F1 Score: 0.7659\n",
      "Carduelis_carduelis Best F1 Score: 0.7838\n"
     ]
    },
    {
     "name": "stderr",
     "output_type": "stream",
     "text": [
      " 69%|██████▉   | 11/16 [11:34:18<5:20:14, 3842.95s/it]"
     ]
    },
    {
     "name": "stdout",
     "output_type": "stream",
     "text": [
      "Serinus_serinus Best F1 Score: 0.7523\n",
      "Average F1 across folds: 0.7716\n",
      "\n",
      "==================================================\n",
      "Testing combination: {'model_name': 'efficientnet_b0', 'learning_rate': 0.001, 'batch_size': 32, 'weight_decay': 0.001, 'optimizer': 'adam', 'scheduler': True, 'dropout_rate': 0.5}\n",
      "Columba_livia Best F1 Score: 0.7750\n",
      "Streptopelia_decaocto Best F1 Score: 0.7876\n",
      "Emberiza_calandra Best F1 Score: 0.7750\n",
      "Carduelis_carduelis Best F1 Score: 0.7777\n"
     ]
    },
    {
     "name": "stderr",
     "output_type": "stream",
     "text": [
      " 75%|███████▌  | 12/16 [12:32:57<4:09:38, 3744.62s/it]"
     ]
    },
    {
     "name": "stdout",
     "output_type": "stream",
     "text": [
      "Serinus_serinus Best F1 Score: 0.7974\n",
      "Average F1 across folds: 0.7825\n",
      "\n",
      "==================================================\n",
      "Testing combination: {'model_name': 'efficientnet_b0', 'learning_rate': 0.0005, 'batch_size': 32, 'weight_decay': 0, 'optimizer': 'adam', 'scheduler': True, 'dropout_rate': 0}\n",
      "Columba_livia Best F1 Score: 0.8067\n",
      "Streptopelia_decaocto Best F1 Score: 0.8041\n",
      "Emberiza_calandra Best F1 Score: 0.7983\n",
      "Carduelis_carduelis Best F1 Score: 0.7780\n"
     ]
    },
    {
     "name": "stderr",
     "output_type": "stream",
     "text": [
      " 81%|████████▏ | 13/16 [13:34:42<3:06:37, 3732.49s/it]"
     ]
    },
    {
     "name": "stdout",
     "output_type": "stream",
     "text": [
      "Serinus_serinus Best F1 Score: 0.8407\n",
      "Average F1 across folds: 0.8055\n",
      "New best parameters found with F1: 0.8055\n",
      "\n",
      "==================================================\n",
      "Testing combination: {'model_name': 'efficientnet_b0', 'learning_rate': 0.0005, 'batch_size': 32, 'weight_decay': 0, 'optimizer': 'adam', 'scheduler': True, 'dropout_rate': 0.5}\n",
      "Columba_livia Best F1 Score: 0.8087\n",
      "Streptopelia_decaocto Best F1 Score: 0.8060\n",
      "Emberiza_calandra Best F1 Score: 0.7898\n",
      "Carduelis_carduelis Best F1 Score: 0.8008\n"
     ]
    },
    {
     "name": "stderr",
     "output_type": "stream",
     "text": [
      " 88%|████████▊ | 14/16 [14:33:18<2:02:14, 3667.11s/it]"
     ]
    },
    {
     "name": "stdout",
     "output_type": "stream",
     "text": [
      "Serinus_serinus Best F1 Score: 0.8128\n",
      "Average F1 across folds: 0.8036\n",
      "\n",
      "==================================================\n",
      "Testing combination: {'model_name': 'efficientnet_b0', 'learning_rate': 0.0005, 'batch_size': 32, 'weight_decay': 0.001, 'optimizer': 'adam', 'scheduler': True, 'dropout_rate': 0}\n",
      "Columba_livia Best F1 Score: 0.7987\n",
      "Streptopelia_decaocto Best F1 Score: 0.8137\n",
      "Emberiza_calandra Best F1 Score: 0.8143\n",
      "Carduelis_carduelis Best F1 Score: 0.7932\n"
     ]
    },
    {
     "name": "stderr",
     "output_type": "stream",
     "text": [
      " 94%|█████████▍| 15/16 [15:42:47<1:03:38, 3818.42s/it]"
     ]
    },
    {
     "name": "stdout",
     "output_type": "stream",
     "text": [
      "Serinus_serinus Best F1 Score: 0.8275\n",
      "Average F1 across folds: 0.8095\n",
      "New best parameters found with F1: 0.8095\n",
      "\n",
      "==================================================\n",
      "Testing combination: {'model_name': 'efficientnet_b0', 'learning_rate': 0.0005, 'batch_size': 32, 'weight_decay': 0.001, 'optimizer': 'adam', 'scheduler': True, 'dropout_rate': 0.5}\n",
      "Columba_livia Best F1 Score: 0.8045\n",
      "Streptopelia_decaocto Best F1 Score: 0.8191\n",
      "Emberiza_calandra Best F1 Score: 0.7852\n",
      "Carduelis_carduelis Best F1 Score: 0.7813\n"
     ]
    },
    {
     "name": "stderr",
     "output_type": "stream",
     "text": [
      "100%|██████████| 16/16 [16:51:05<00:00, 3791.57s/it]  "
     ]
    },
    {
     "name": "stdout",
     "output_type": "stream",
     "text": [
      "Serinus_serinus Best F1 Score: 0.8106\n",
      "Average F1 across folds: 0.8002\n",
      "\n",
      "GridSearch completed!\n"
     ]
    },
    {
     "name": "stderr",
     "output_type": "stream",
     "text": [
      "\n"
     ]
    }
   ],
   "source": [
    "# Main execution\n",
    "# 1. Perform hyperparameter search\n",
    "\n",
    "#params = {\n",
    "#    'model_name': ['resnet18', 'efficientnet_b0', 'resnet34'],\n",
    "#    'learning_rate': [0.001, 0.0005, 0.0001],\n",
    "#    'batch_size': [BATCH_SIZE],\n",
    "#    'weight_decay': [0, 0.001, 0.0001],\n",
    "#    'optimizer': ['adam', 'sgd'],\n",
    "#    'scheduler': [True, False],\n",
    "#    'dropout_rate': [0, 0.2, 0.5]\n",
    "#}\n",
    "\n",
    "params = {\n",
    "    'model_name': ['resnet34', 'efficientnet_b0'],\n",
    "    'learning_rate': [0.001, 0.0005],\n",
    "    'batch_size': [BATCH_SIZE],\n",
    "    'weight_decay': [0, 0.001],\n",
    "    'optimizer': ['adam'],\n",
    "    'scheduler': [True],\n",
    "    'dropout_rate': [0, 0.5]\n",
    "}\n",
    "\n",
    "os.makedirs(MODEL_SAVE_DIR, exist_ok=True)\n",
    "gridSearch(f\"{MODEL_SAVE_DIR}/{OUTPUT_FILE}\", N_SPLITS, params)  "
   ]
  },
  {
   "cell_type": "code",
   "execution_count": null,
   "id": "dc1baa01",
   "metadata": {},
   "outputs": [
    {
     "name": "stdout",
     "output_type": "stream",
     "text": [
      "\n",
      "Final Model Evaluation:\n",
      "Test Loss: 0.7172\n",
      "Test Accuracy: 0.8116\n",
      "Test F1 Score: 0.8104\n"
     ]
    },
    {
     "ename": "TypeError",
     "evalue": "can't convert cuda:0 device type tensor to numpy. Use Tensor.cpu() to copy the tensor to host memory first.",
     "output_type": "error",
     "traceback": [
      "\u001b[0;31m---------------------------------------------------------------------------\u001b[0m",
      "\u001b[0;31mTypeError\u001b[0m                                 Traceback (most recent call last)",
      "Cell \u001b[0;32mIn[13], line 10\u001b[0m\n\u001b[1;32m      6\u001b[0m cm \u001b[38;5;241m=\u001b[39m confusion_matrix([label\u001b[38;5;241m.\u001b[39mcpu()\u001b[38;5;241m.\u001b[39mnumpy() \u001b[38;5;28;01mif\u001b[39;00m \u001b[38;5;28misinstance\u001b[39m(label, torch\u001b[38;5;241m.\u001b[39mTensor) \u001b[38;5;28;01melse\u001b[39;00m label \u001b[38;5;28;01mfor\u001b[39;00m label \u001b[38;5;129;01min\u001b[39;00m true_labels], \n\u001b[1;32m      7\u001b[0m                       [label\u001b[38;5;241m.\u001b[39mcpu()\u001b[38;5;241m.\u001b[39mnumpy() \u001b[38;5;28;01mif\u001b[39;00m \u001b[38;5;28misinstance\u001b[39m(label, torch\u001b[38;5;241m.\u001b[39mTensor) \u001b[38;5;28;01melse\u001b[39;00m label \u001b[38;5;28;01mfor\u001b[39;00m label \u001b[38;5;129;01min\u001b[39;00m pred_labels])\n\u001b[1;32m      9\u001b[0m \u001b[38;5;66;03m# 4. Plot results\u001b[39;00m\n\u001b[0;32m---> 10\u001b[0m \u001b[43mplotting\u001b[49m\u001b[43m(\u001b[49m\u001b[43mhistory\u001b[49m\u001b[43m,\u001b[49m\u001b[43m \u001b[49m\u001b[43mcm\u001b[49m\u001b[43m,\u001b[49m\u001b[43m \u001b[49m\u001b[43m(\u001b[49m\u001b[43mtest_loss\u001b[49m\u001b[43m,\u001b[49m\u001b[43m \u001b[49m\u001b[43mtest_acc\u001b[49m\u001b[43m,\u001b[49m\u001b[43m \u001b[49m\u001b[43mtest_f1\u001b[49m\u001b[43m)\u001b[49m\u001b[43m,\u001b[49m\u001b[43m \u001b[49m\u001b[43mfinal_model\u001b[49m\u001b[38;5;241;43m.\u001b[39;49m\u001b[43mspecies\u001b[49m\u001b[43m \u001b[49m\u001b[38;5;28;43;01mif\u001b[39;49;00m\u001b[43m \u001b[49m\u001b[38;5;28;43mhasattr\u001b[39;49m\u001b[43m(\u001b[49m\u001b[43mfinal_model\u001b[49m\u001b[43m,\u001b[49m\u001b[43m \u001b[49m\u001b[38;5;124;43m'\u001b[39;49m\u001b[38;5;124;43mspecies\u001b[39;49m\u001b[38;5;124;43m'\u001b[39;49m\u001b[43m)\u001b[49m\u001b[43m \u001b[49m\u001b[38;5;28;43;01melse\u001b[39;49;00m\u001b[43m \u001b[49m\u001b[43mspecies\u001b[49m\u001b[43m)\u001b[49m\n\u001b[1;32m     12\u001b[0m \u001b[38;5;66;03m# 5. Save final model\u001b[39;00m\n\u001b[1;32m     13\u001b[0m torch\u001b[38;5;241m.\u001b[39msave({\n\u001b[1;32m     14\u001b[0m     \u001b[38;5;124m'\u001b[39m\u001b[38;5;124mmodel_state_dict\u001b[39m\u001b[38;5;124m'\u001b[39m: final_model\u001b[38;5;241m.\u001b[39mstate_dict(),\n\u001b[1;32m     15\u001b[0m     \u001b[38;5;124m'\u001b[39m\u001b[38;5;124mbest_params\u001b[39m\u001b[38;5;124m'\u001b[39m: best_params,\n\u001b[1;32m     16\u001b[0m     \u001b[38;5;124m'\u001b[39m\u001b[38;5;124mtest_metrics\u001b[39m\u001b[38;5;124m'\u001b[39m: (test_loss, test_acc, test_f1)\n\u001b[1;32m     17\u001b[0m }, os\u001b[38;5;241m.\u001b[39mpath\u001b[38;5;241m.\u001b[39mjoin(MODEL_SAVE_DIR, \u001b[38;5;124m'\u001b[39m\u001b[38;5;124mfinal_model.pth\u001b[39m\u001b[38;5;124m'\u001b[39m))\n",
      "Cell \u001b[0;32mIn[9], line 15\u001b[0m, in \u001b[0;36mplotting\u001b[0;34m(history, cm, test_metrics, species)\u001b[0m\n\u001b[1;32m     12\u001b[0m plt\u001b[38;5;241m.\u001b[39mlegend()\n\u001b[1;32m     14\u001b[0m plt\u001b[38;5;241m.\u001b[39msubplot(\u001b[38;5;241m2\u001b[39m, \u001b[38;5;241m2\u001b[39m, \u001b[38;5;241m2\u001b[39m)\n\u001b[0;32m---> 15\u001b[0m \u001b[43mplt\u001b[49m\u001b[38;5;241;43m.\u001b[39;49m\u001b[43mplot\u001b[49m\u001b[43m(\u001b[49m\u001b[43mhistory\u001b[49m\u001b[43m[\u001b[49m\u001b[38;5;124;43m'\u001b[39;49m\u001b[38;5;124;43mtrain_acc\u001b[39;49m\u001b[38;5;124;43m'\u001b[39;49m\u001b[43m]\u001b[49m\u001b[43m,\u001b[49m\u001b[43m \u001b[49m\u001b[43mlabel\u001b[49m\u001b[38;5;241;43m=\u001b[39;49m\u001b[38;5;124;43m'\u001b[39;49m\u001b[38;5;124;43mTrain Accuracy\u001b[39;49m\u001b[38;5;124;43m'\u001b[39;49m\u001b[43m)\u001b[49m\n\u001b[1;32m     16\u001b[0m plt\u001b[38;5;241m.\u001b[39mplot(history[\u001b[38;5;124m'\u001b[39m\u001b[38;5;124mval_acc\u001b[39m\u001b[38;5;124m'\u001b[39m], label\u001b[38;5;241m=\u001b[39m\u001b[38;5;124m'\u001b[39m\u001b[38;5;124mValidation Accuracy\u001b[39m\u001b[38;5;124m'\u001b[39m)\n\u001b[1;32m     17\u001b[0m plt\u001b[38;5;241m.\u001b[39mtitle(\u001b[38;5;124m'\u001b[39m\u001b[38;5;124mTraining and Validation Accuracy\u001b[39m\u001b[38;5;124m'\u001b[39m)\n",
      "File \u001b[0;32m~/anaconda3/envs/AP/lib/python3.13/site-packages/matplotlib/pyplot.py:3829\u001b[0m, in \u001b[0;36mplot\u001b[0;34m(scalex, scaley, data, *args, **kwargs)\u001b[0m\n\u001b[1;32m   3821\u001b[0m \u001b[38;5;129m@_copy_docstring_and_deprecators\u001b[39m(Axes\u001b[38;5;241m.\u001b[39mplot)\n\u001b[1;32m   3822\u001b[0m \u001b[38;5;28;01mdef\u001b[39;00m\u001b[38;5;250m \u001b[39m\u001b[38;5;21mplot\u001b[39m(\n\u001b[1;32m   3823\u001b[0m     \u001b[38;5;241m*\u001b[39margs: \u001b[38;5;28mfloat\u001b[39m \u001b[38;5;241m|\u001b[39m ArrayLike \u001b[38;5;241m|\u001b[39m \u001b[38;5;28mstr\u001b[39m,\n\u001b[0;32m   (...)\u001b[0m\n\u001b[1;32m   3827\u001b[0m     \u001b[38;5;241m*\u001b[39m\u001b[38;5;241m*\u001b[39mkwargs,\n\u001b[1;32m   3828\u001b[0m ) \u001b[38;5;241m-\u001b[39m\u001b[38;5;241m>\u001b[39m \u001b[38;5;28mlist\u001b[39m[Line2D]:\n\u001b[0;32m-> 3829\u001b[0m     \u001b[38;5;28;01mreturn\u001b[39;00m \u001b[43mgca\u001b[49m\u001b[43m(\u001b[49m\u001b[43m)\u001b[49m\u001b[38;5;241;43m.\u001b[39;49m\u001b[43mplot\u001b[49m\u001b[43m(\u001b[49m\n\u001b[1;32m   3830\u001b[0m \u001b[43m        \u001b[49m\u001b[38;5;241;43m*\u001b[39;49m\u001b[43margs\u001b[49m\u001b[43m,\u001b[49m\n\u001b[1;32m   3831\u001b[0m \u001b[43m        \u001b[49m\u001b[43mscalex\u001b[49m\u001b[38;5;241;43m=\u001b[39;49m\u001b[43mscalex\u001b[49m\u001b[43m,\u001b[49m\n\u001b[1;32m   3832\u001b[0m \u001b[43m        \u001b[49m\u001b[43mscaley\u001b[49m\u001b[38;5;241;43m=\u001b[39;49m\u001b[43mscaley\u001b[49m\u001b[43m,\u001b[49m\n\u001b[1;32m   3833\u001b[0m \u001b[43m        \u001b[49m\u001b[38;5;241;43m*\u001b[39;49m\u001b[38;5;241;43m*\u001b[39;49m\u001b[43m(\u001b[49m\u001b[43m{\u001b[49m\u001b[38;5;124;43m\"\u001b[39;49m\u001b[38;5;124;43mdata\u001b[39;49m\u001b[38;5;124;43m\"\u001b[39;49m\u001b[43m:\u001b[49m\u001b[43m \u001b[49m\u001b[43mdata\u001b[49m\u001b[43m}\u001b[49m\u001b[43m \u001b[49m\u001b[38;5;28;43;01mif\u001b[39;49;00m\u001b[43m \u001b[49m\u001b[43mdata\u001b[49m\u001b[43m \u001b[49m\u001b[38;5;129;43;01mis\u001b[39;49;00m\u001b[43m \u001b[49m\u001b[38;5;129;43;01mnot\u001b[39;49;00m\u001b[43m \u001b[49m\u001b[38;5;28;43;01mNone\u001b[39;49;00m\u001b[43m \u001b[49m\u001b[38;5;28;43;01melse\u001b[39;49;00m\u001b[43m \u001b[49m\u001b[43m{\u001b[49m\u001b[43m}\u001b[49m\u001b[43m)\u001b[49m\u001b[43m,\u001b[49m\n\u001b[1;32m   3834\u001b[0m \u001b[43m        \u001b[49m\u001b[38;5;241;43m*\u001b[39;49m\u001b[38;5;241;43m*\u001b[39;49m\u001b[43mkwargs\u001b[49m\u001b[43m,\u001b[49m\n\u001b[1;32m   3835\u001b[0m \u001b[43m    \u001b[49m\u001b[43m)\u001b[49m\n",
      "File \u001b[0;32m~/anaconda3/envs/AP/lib/python3.13/site-packages/matplotlib/axes/_axes.py:1777\u001b[0m, in \u001b[0;36mAxes.plot\u001b[0;34m(self, scalex, scaley, data, *args, **kwargs)\u001b[0m\n\u001b[1;32m   1534\u001b[0m \u001b[38;5;250m\u001b[39m\u001b[38;5;124;03m\"\"\"\u001b[39;00m\n\u001b[1;32m   1535\u001b[0m \u001b[38;5;124;03mPlot y versus x as lines and/or markers.\u001b[39;00m\n\u001b[1;32m   1536\u001b[0m \n\u001b[0;32m   (...)\u001b[0m\n\u001b[1;32m   1774\u001b[0m \u001b[38;5;124;03m(``'green'``) or hex strings (``'#008000'``).\u001b[39;00m\n\u001b[1;32m   1775\u001b[0m \u001b[38;5;124;03m\"\"\"\u001b[39;00m\n\u001b[1;32m   1776\u001b[0m kwargs \u001b[38;5;241m=\u001b[39m cbook\u001b[38;5;241m.\u001b[39mnormalize_kwargs(kwargs, mlines\u001b[38;5;241m.\u001b[39mLine2D)\n\u001b[0;32m-> 1777\u001b[0m lines \u001b[38;5;241m=\u001b[39m [\u001b[38;5;241m*\u001b[39m\u001b[38;5;28mself\u001b[39m\u001b[38;5;241m.\u001b[39m_get_lines(\u001b[38;5;28mself\u001b[39m, \u001b[38;5;241m*\u001b[39margs, data\u001b[38;5;241m=\u001b[39mdata, \u001b[38;5;241m*\u001b[39m\u001b[38;5;241m*\u001b[39mkwargs)]\n\u001b[1;32m   1778\u001b[0m \u001b[38;5;28;01mfor\u001b[39;00m line \u001b[38;5;129;01min\u001b[39;00m lines:\n\u001b[1;32m   1779\u001b[0m     \u001b[38;5;28mself\u001b[39m\u001b[38;5;241m.\u001b[39madd_line(line)\n",
      "File \u001b[0;32m~/anaconda3/envs/AP/lib/python3.13/site-packages/matplotlib/axes/_base.py:297\u001b[0m, in \u001b[0;36m_process_plot_var_args.__call__\u001b[0;34m(self, axes, data, return_kwargs, *args, **kwargs)\u001b[0m\n\u001b[1;32m    295\u001b[0m     this \u001b[38;5;241m+\u001b[39m\u001b[38;5;241m=\u001b[39m args[\u001b[38;5;241m0\u001b[39m],\n\u001b[1;32m    296\u001b[0m     args \u001b[38;5;241m=\u001b[39m args[\u001b[38;5;241m1\u001b[39m:]\n\u001b[0;32m--> 297\u001b[0m \u001b[38;5;28;01myield from\u001b[39;00m \u001b[38;5;28;43mself\u001b[39;49m\u001b[38;5;241;43m.\u001b[39;49m\u001b[43m_plot_args\u001b[49m\u001b[43m(\u001b[49m\n\u001b[1;32m    298\u001b[0m \u001b[43m    \u001b[49m\u001b[43maxes\u001b[49m\u001b[43m,\u001b[49m\u001b[43m \u001b[49m\u001b[43mthis\u001b[49m\u001b[43m,\u001b[49m\u001b[43m \u001b[49m\u001b[43mkwargs\u001b[49m\u001b[43m,\u001b[49m\u001b[43m \u001b[49m\u001b[43mambiguous_fmt_datakey\u001b[49m\u001b[38;5;241;43m=\u001b[39;49m\u001b[43mambiguous_fmt_datakey\u001b[49m\u001b[43m,\u001b[49m\n\u001b[1;32m    299\u001b[0m \u001b[43m    \u001b[49m\u001b[43mreturn_kwargs\u001b[49m\u001b[38;5;241;43m=\u001b[39;49m\u001b[43mreturn_kwargs\u001b[49m\n\u001b[1;32m    300\u001b[0m \u001b[43m\u001b[49m\u001b[43m)\u001b[49m\n",
      "File \u001b[0;32m~/anaconda3/envs/AP/lib/python3.13/site-packages/matplotlib/axes/_base.py:486\u001b[0m, in \u001b[0;36m_process_plot_var_args._plot_args\u001b[0;34m(self, axes, tup, kwargs, return_kwargs, ambiguous_fmt_datakey)\u001b[0m\n\u001b[1;32m    484\u001b[0m     y \u001b[38;5;241m=\u001b[39m _check_1d(xy[\u001b[38;5;241m1\u001b[39m])\n\u001b[1;32m    485\u001b[0m \u001b[38;5;28;01melse\u001b[39;00m:\n\u001b[0;32m--> 486\u001b[0m     x, y \u001b[38;5;241m=\u001b[39m \u001b[43mindex_of\u001b[49m\u001b[43m(\u001b[49m\u001b[43mxy\u001b[49m\u001b[43m[\u001b[49m\u001b[38;5;241;43m-\u001b[39;49m\u001b[38;5;241;43m1\u001b[39;49m\u001b[43m]\u001b[49m\u001b[43m)\u001b[49m\n\u001b[1;32m    488\u001b[0m \u001b[38;5;28;01mif\u001b[39;00m axes\u001b[38;5;241m.\u001b[39mxaxis \u001b[38;5;129;01mis\u001b[39;00m \u001b[38;5;129;01mnot\u001b[39;00m \u001b[38;5;28;01mNone\u001b[39;00m:\n\u001b[1;32m    489\u001b[0m     axes\u001b[38;5;241m.\u001b[39mxaxis\u001b[38;5;241m.\u001b[39mupdate_units(x)\n",
      "File \u001b[0;32m~/anaconda3/envs/AP/lib/python3.13/site-packages/matplotlib/cbook.py:1666\u001b[0m, in \u001b[0;36mindex_of\u001b[0;34m(y)\u001b[0m\n\u001b[1;32m   1664\u001b[0m     \u001b[38;5;28;01mpass\u001b[39;00m\n\u001b[1;32m   1665\u001b[0m \u001b[38;5;28;01mtry\u001b[39;00m:\n\u001b[0;32m-> 1666\u001b[0m     y \u001b[38;5;241m=\u001b[39m \u001b[43m_check_1d\u001b[49m\u001b[43m(\u001b[49m\u001b[43my\u001b[49m\u001b[43m)\u001b[49m\n\u001b[1;32m   1667\u001b[0m \u001b[38;5;28;01mexcept\u001b[39;00m (VisibleDeprecationWarning, \u001b[38;5;167;01mValueError\u001b[39;00m):\n\u001b[1;32m   1668\u001b[0m     \u001b[38;5;66;03m# NumPy 1.19 will warn on ragged input, and we can't actually use it.\u001b[39;00m\n\u001b[1;32m   1669\u001b[0m     \u001b[38;5;28;01mpass\u001b[39;00m\n",
      "File \u001b[0;32m~/anaconda3/envs/AP/lib/python3.13/site-packages/matplotlib/cbook.py:1358\u001b[0m, in \u001b[0;36m_check_1d\u001b[0;34m(x)\u001b[0m\n\u001b[1;32m   1352\u001b[0m \u001b[38;5;66;03m# plot requires `shape` and `ndim`.  If passed an\u001b[39;00m\n\u001b[1;32m   1353\u001b[0m \u001b[38;5;66;03m# object that doesn't provide them, then force to numpy array.\u001b[39;00m\n\u001b[1;32m   1354\u001b[0m \u001b[38;5;66;03m# Note this will strip unit information.\u001b[39;00m\n\u001b[1;32m   1355\u001b[0m \u001b[38;5;28;01mif\u001b[39;00m (\u001b[38;5;129;01mnot\u001b[39;00m \u001b[38;5;28mhasattr\u001b[39m(x, \u001b[38;5;124m'\u001b[39m\u001b[38;5;124mshape\u001b[39m\u001b[38;5;124m'\u001b[39m) \u001b[38;5;129;01mor\u001b[39;00m\n\u001b[1;32m   1356\u001b[0m         \u001b[38;5;129;01mnot\u001b[39;00m \u001b[38;5;28mhasattr\u001b[39m(x, \u001b[38;5;124m'\u001b[39m\u001b[38;5;124mndim\u001b[39m\u001b[38;5;124m'\u001b[39m) \u001b[38;5;129;01mor\u001b[39;00m\n\u001b[1;32m   1357\u001b[0m         \u001b[38;5;28mlen\u001b[39m(x\u001b[38;5;241m.\u001b[39mshape) \u001b[38;5;241m<\u001b[39m \u001b[38;5;241m1\u001b[39m):\n\u001b[0;32m-> 1358\u001b[0m     \u001b[38;5;28;01mreturn\u001b[39;00m \u001b[43mnp\u001b[49m\u001b[38;5;241;43m.\u001b[39;49m\u001b[43matleast_1d\u001b[49m\u001b[43m(\u001b[49m\u001b[43mx\u001b[49m\u001b[43m)\u001b[49m\n\u001b[1;32m   1359\u001b[0m \u001b[38;5;28;01melse\u001b[39;00m:\n\u001b[1;32m   1360\u001b[0m     \u001b[38;5;28;01mreturn\u001b[39;00m x\n",
      "File \u001b[0;32m~/anaconda3/envs/AP/lib/python3.13/site-packages/numpy/_core/shape_base.py:63\u001b[0m, in \u001b[0;36matleast_1d\u001b[0;34m(*arys)\u001b[0m\n\u001b[1;32m     23\u001b[0m \u001b[38;5;250m\u001b[39m\u001b[38;5;124;03m\"\"\"\u001b[39;00m\n\u001b[1;32m     24\u001b[0m \u001b[38;5;124;03mConvert inputs to arrays with at least one dimension.\u001b[39;00m\n\u001b[1;32m     25\u001b[0m \n\u001b[0;32m   (...)\u001b[0m\n\u001b[1;32m     60\u001b[0m \n\u001b[1;32m     61\u001b[0m \u001b[38;5;124;03m\"\"\"\u001b[39;00m\n\u001b[1;32m     62\u001b[0m \u001b[38;5;28;01mif\u001b[39;00m \u001b[38;5;28mlen\u001b[39m(arys) \u001b[38;5;241m==\u001b[39m \u001b[38;5;241m1\u001b[39m:\n\u001b[0;32m---> 63\u001b[0m     result \u001b[38;5;241m=\u001b[39m \u001b[43masanyarray\u001b[49m\u001b[43m(\u001b[49m\u001b[43marys\u001b[49m\u001b[43m[\u001b[49m\u001b[38;5;241;43m0\u001b[39;49m\u001b[43m]\u001b[49m\u001b[43m)\u001b[49m\n\u001b[1;32m     64\u001b[0m     \u001b[38;5;28;01mif\u001b[39;00m result\u001b[38;5;241m.\u001b[39mndim \u001b[38;5;241m==\u001b[39m \u001b[38;5;241m0\u001b[39m:\n\u001b[1;32m     65\u001b[0m         result \u001b[38;5;241m=\u001b[39m result\u001b[38;5;241m.\u001b[39mreshape(\u001b[38;5;241m1\u001b[39m)\n",
      "File \u001b[0;32m~/anaconda3/envs/AP/lib/python3.13/site-packages/torch/_tensor.py:1194\u001b[0m, in \u001b[0;36mTensor.__array__\u001b[0;34m(self, dtype)\u001b[0m\n\u001b[1;32m   1192\u001b[0m     \u001b[38;5;28;01mreturn\u001b[39;00m handle_torch_function(Tensor\u001b[38;5;241m.\u001b[39m__array__, (\u001b[38;5;28mself\u001b[39m,), \u001b[38;5;28mself\u001b[39m, dtype\u001b[38;5;241m=\u001b[39mdtype)\n\u001b[1;32m   1193\u001b[0m \u001b[38;5;28;01mif\u001b[39;00m dtype \u001b[38;5;129;01mis\u001b[39;00m \u001b[38;5;28;01mNone\u001b[39;00m:\n\u001b[0;32m-> 1194\u001b[0m     \u001b[38;5;28;01mreturn\u001b[39;00m \u001b[38;5;28;43mself\u001b[39;49m\u001b[38;5;241;43m.\u001b[39;49m\u001b[43mnumpy\u001b[49m\u001b[43m(\u001b[49m\u001b[43m)\u001b[49m\n\u001b[1;32m   1195\u001b[0m \u001b[38;5;28;01melse\u001b[39;00m:\n\u001b[1;32m   1196\u001b[0m     \u001b[38;5;28;01mreturn\u001b[39;00m \u001b[38;5;28mself\u001b[39m\u001b[38;5;241m.\u001b[39mnumpy()\u001b[38;5;241m.\u001b[39mastype(dtype, copy\u001b[38;5;241m=\u001b[39m\u001b[38;5;28;01mFalse\u001b[39;00m)\n",
      "\u001b[0;31mTypeError\u001b[0m: can't convert cuda:0 device type tensor to numpy. Use Tensor.cpu() to copy the tensor to host memory first."
     ]
    },
    {
     "data": {
      "image/png": "[encoded data removed]",
      "text/plain": [
       "<Figure size 2000x1200 with 2 Axes>"
      ]
     },
     "metadata": {},
     "output_type": "display_data"
    },
    {
     "ename": "",
     "evalue": "",
     "output_type": "error",
     "traceback": [
      "\u001b[1;31mThe Kernel crashed while executing code in the current cell or a previous cell. \n",
      "\u001b[1;31mPlease review the code in the cell(s) to identify a possible cause of the failure. \n",
      "\u001b[1;31mClick <a href='https://aka.ms/vscodeJupyterKernelCrash'>here</a> for more info. \n",
      "\u001b[1;31mView Jupyter <a href='command:jupyter.viewOutput'>log</a> for further details."
     ]
    }
   ],
   "source": [
    "# 2. Train final model with best parameters\n",
    "best_params = torch.load(os.path.join(MODEL_SAVE_DIR, 'bestparams.pth'))\n",
    "final_model, history, (true_labels, pred_labels), test_loss, test_acc, test_f1 = bestTrainModel(f\"{MODEL_SAVE_DIR}/{OUTPUT_FILE}\", best_params)\n",
    "    \n",
    "# 3. Generate confusion matrix\n",
    "cm = confusion_matrix([label.cpu().numpy() if isinstance(label, torch.Tensor) else label for label in true_labels], \n",
    "                      [label.cpu().numpy() if isinstance(label, torch.Tensor) else label for label in pred_labels])\n",
    "    \n",
    "# 4. Plot results\n",
    "plotting(history, cm, (test_loss, test_acc, test_f1), final_model.species if hasattr(final_model, 'species') else species)\n",
    "    \n",
    "# 5. Save final model\n",
    "torch.save({\n",
    "    'model_state_dict': final_model.state_dict(),\n",
    "    'best_params': best_params,\n",
    "    'test_metrics': (test_loss, test_acc, test_f1)\n",
    "}, os.path.join(MODEL_SAVE_DIR, 'final_model.pth'))\n",
    "print(\"\\nFinal model saved!\")"
   ]
  }
 ],
 "metadata": {
  "kernelspec": {
   "display_name": "AP",
   "language": "python",
   "name": "python3"
  },
  "language_info": {
   "codemirror_mode": {
    "name": "ipython",
    "version": 3
   },
   "file_extension": ".py",
   "mimetype": "text/x-python",
   "name": "python",
   "nbconvert_exporter": "python",
   "pygments_lexer": "ipython3",
   "version": "3.13.2"
  },
  "widgets": {
   "application/vnd.jupyter.widget-state+json": {
    "state": {},
    "version_major": 2,
    "version_minor": 0
   }
  }
 },
 "nbformat": 4,
 "nbformat_minor": 5
}
