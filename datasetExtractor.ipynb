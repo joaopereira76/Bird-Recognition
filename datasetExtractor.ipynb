{
 "cells": [
  {
   "cell_type": "code",
   "execution_count": null,
   "id": "d6969375",
   "metadata": {},
   "outputs": [],
   "source": [
    "import pygbif\n",
    "import requests\n",
    "import os\n",
    "\n",
    "\n",
    "species_keys = {\n",
    "    \"Carduelis carduelis\":,\n",
    "    \"Ciconia ciconia\":,\n",
    "    \"Columba livia\":,\n",
    "    \"Hirundo rustica\":,\n",
    "    \"Passer domesticus\":,\n",
    "    \"Streptopelia decaocto\":,\n",
    "    \"Turdus merula\":\n",
    "    \n",
    "}\n",
    "\n",
    "def extractingGBFIImages(species_keys, limit=50):\n",
    "    for species, key in species_keys.items():\n",
    "        print(f\"Fetching {species}...\")\n",
    "        occurrences = pygbif.occurrences.search(\n",
    "            taxonKey=key,\n",
    "            mediaType=\"StillImage\",\n",
    "            limit=limit\n",
    "        )\n",
    "        \n",
    "        os.makedirs(f\"dataset/{species}\", exist_ok=True)\n",
    "        \n",
    "        for idx, occ in enumerate(occurrences['results']):\n",
    "            if 'media' in occ:\n",
    "                for media in occ['media'] and media['type'] == 'StillImage':\n",
    "                    imgURL = media['identifier']\n",
    "                    try:\n",
    "                        response = requests.get(imgURL)\n",
    "                        with open(f\"dataset/{species}/{idx}.jpg\", 'wb') as f:\n",
    "                            f.write(response.content)\n",
    "                    except:\n",
    "                        print(f\"Failed to download {imgURL}\")"
   ]
  }
 ],
 "metadata": {
  "language_info": {
   "name": "python"
  }
 },
 "nbformat": 4,
 "nbformat_minor": 5
}
