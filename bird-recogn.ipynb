{
 "cells": [
  {
   "cell_type": "code",
   "execution_count": 8,
   "id": "be59eb13",
   "metadata": {
    "collapsed": false,
    "jupyter": {
     "outputs_hidden": false,
     "source_hidden": false
    }
   },
   "outputs": [],
   "source": [
    "import os\n",
    "import numpy as np\n",
    "import h5py\n",
    "from PIL import Image\n",
    "from sklearn.model_selection import train_test_split\n",
    "import torch\n",
    "from torch.utils.data import Dataset, DataLoader\n",
    "from torchvision import transforms"
   ]
  },
  {
   "cell_type": "code",
   "execution_count": 9,
   "id": "111fb351",
   "metadata": {
    "collapsed": false,
    "jupyter": {
     "outputs_hidden": false,
     "source_hidden": false
    }
   },
   "outputs": [
    {
     "name": "stdout",
     "output_type": "stream",
     "text": [
      "Loading and preprocessing images...\n"
     ]
    },
    {
     "name": "stdout",
     "output_type": "stream",
     "text": [
      "Saving data to bird_dataset_pytorch.h5...\n"
     ]
    },
    {
     "name": "stdout",
     "output_type": "stream",
     "text": [
      "Process completed successfully!\n",
      "Data saved to bird_dataset_pytorch.h5 with gzip compression level 7\n"
     ]
    }
   ],
   "source": [
    "\n",
    "\n",
    "\n",
    "DATA_DIR = 'dataset'  # Replace with your dataset path\n",
    "OUTPUT_FILE = 'bird_dataset_pytorch.h5'  # Output HDF5 file\n",
    "IMG_SIZE = (224, 224)             # Standard size for CNNs\n",
    "TEST_SIZE = 0.1                   # Test set proportion\n",
    "COMPRESSION = 'gzip'              # Compression type\n",
    "COMPRESSION_LEVEL = 7             # Compression level (1-9)\n",
    "\n",
    "# Lista de espécies (conforme a proposta)\n",
    "species = [\n",
    "    'Ciconia_ciconia', 'Columba_livia', 'Streptopelia_decaocto',\n",
    "    'Emberiza_calandra', 'Carduelis_carduelis', 'Serinus_serinus',\n",
    "    'Delichon_urbicum', 'Hirundo_rustica', 'Passer_domesticus',\n",
    "    'Sturnus_unicolor', 'Turdus_merula'\n",
    "]\n",
    "\n",
    "# Define augmentations\n",
    "train_transforms = transforms.Compose([\n",
    "    transforms.Resize(IMG_SIZE),\n",
    "    transforms.RandomHorizontalFlip(),\n",
    "    transforms.RandomRotation(20),\n",
    "    transforms.ColorJitter(brightness=0.1, contrast=0.1, saturation=0.1),\n",
    "    transforms.ToTensor(),\n",
    "    transforms.Normalize(mean=[0.485, 0.456, 0.406], std=[0.229, 0.224, 0.225])\n",
    "])\n",
    "\n",
    "test_transforms = transforms.Compose([\n",
    "    transforms.Resize(IMG_SIZE),\n",
    "    transforms.ToTensor(),\n",
    "    transforms.Normalize(mean=[0.485, 0.456, 0.406], std=[0.229, 0.224, 0.225])\n",
    "])\n",
    "\n",
    "def load_and_preprocess_images(data_dir, species_list, img_size):\n",
    "    \"\"\"Load and preprocess images, keeping as uint8 to save space\"\"\"\n",
    "    images = []\n",
    "    labels = []\n",
    "    \n",
    "    for idx, specie in enumerate(species_list):\n",
    "        specie_dir = os.path.join(data_dir, specie)\n",
    "        \n",
    "        for img_name in os.listdir(specie_dir):\n",
    "            img_path = os.path.join(specie_dir, img_name)\n",
    "            \n",
    "            try:\n",
    "                img = Image.open(img_path)\n",
    "                if img.mode != 'RGB':\n",
    "                    img = img.convert('RGB')\n",
    "                img = img.resize(img_size)\n",
    "                images.append(np.array(img))  # Keep as uint8 [0,255]\n",
    "                labels.append(idx)\n",
    "            except Exception as e:\n",
    "                print(f\"Error processing {img_path}: {e}\")\n",
    "    \n",
    "    return np.array(images), np.array(labels)\n",
    "\n",
    "# Load and preprocess images\n",
    "print(\"Loading and preprocessing images...\")\n",
    "X, y = load_and_preprocess_images(DATA_DIR, species, IMG_SIZE)\n",
    "\n",
    "# Split into train and test sets\n",
    "X_train, X_test, y_train, y_test = train_test_split(\n",
    "    X, y, test_size=TEST_SIZE, stratify=y\n",
    ")\n",
    "\n",
    "# Save data to HDF5 file\n",
    "print(f\"Saving data to {OUTPUT_FILE}...\")\n",
    "with h5py.File(OUTPUT_FILE, 'w') as hf:\n",
    "    # Save datasets with compression\n",
    "    hf.create_dataset('X_train', data=X_train, compression=COMPRESSION, compression_opts=COMPRESSION_LEVEL)\n",
    "    hf.create_dataset('y_train', data=y_train, compression=COMPRESSION, compression_opts=COMPRESSION_LEVEL)\n",
    "    hf.create_dataset('X_test', data=X_test, compression=COMPRESSION, compression_opts=COMPRESSION_LEVEL)\n",
    "    hf.create_dataset('y_test', data=y_test, compression=COMPRESSION, compression_opts=COMPRESSION_LEVEL)\n",
    "    \n",
    "    # Save metadata\n",
    "    hf.attrs['species'] = np.array(species, dtype=h5py.string_dtype())\n",
    "    hf.attrs['image_size'] = IMG_SIZE\n",
    "\n",
    "print(\"Process completed successfully!\")\n",
    "print(f\"Data saved to {OUTPUT_FILE} with {COMPRESSION} compression level {COMPRESSION_LEVEL}\")\n"
   ]
  },
  {
   "cell_type": "code",
   "execution_count": null,
   "id": "2a78994c",
   "metadata": {
    "jupyter": {
     "source_hidden": false
    }
   },
   "outputs": [],
   "source": [
    "\n",
    "def get_dataloaders(h5_file, batch_size=32):\n",
    "    train_dataset = BirdDataset(h5_file, train=True, transform=train_transforms)\n",
    "    test_dataset = BirdDataset(h5_file, train=False, transform=test_transforms)\n",
    "    \n",
    "    train_loader = DataLoader(train_dataset, batch_size=batch_size, shuffle=True)\n",
    "    test_loader = DataLoader(test_dataset, batch_size=batch_size, shuffle=False)\n",
    "    \n",
    "    return train_loader, test_loader, train_dataset.species"
   ]
  }
 ],
 "metadata": {
  "kernelspec": {
   "display_name": "Python 3 (ipykernel)",
   "language": "python",
   "name": "python3"
  },
  "language_info": {
   "codemirror_mode": {
    "name": "ipython",
    "version": 3
   },
   "file_extension": ".py",
   "mimetype": "text/x-python",
   "name": "python",
   "nbconvert_exporter": "python",
   "pygments_lexer": "ipython3",
   "version": "3.12.3"
  },
  "widgets": {
   "application/vnd.jupyter.widget-state+json": {
    "state": {},
    "version_major": 2,
    "version_minor": 0
   }
  }
 },
 "nbformat": 4,
 "nbformat_minor": 5
}
